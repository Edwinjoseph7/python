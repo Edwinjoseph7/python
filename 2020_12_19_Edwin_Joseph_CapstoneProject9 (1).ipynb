{
  "nbformat": 4,
  "nbformat_minor": 0,
  "metadata": {
    "colab": {
      "provenance": []
    },
    "kernelspec": {
      "name": "python3",
      "display_name": "Python 3"
    }
  },
  "cells": [
    {
      "cell_type": "markdown",
      "metadata": {
        "id": "UYmMpXkNw9I6"
      },
      "source": [
        "# Project 9: The Horizon Bank - Python Dictionaries"
      ]
    },
    {
      "cell_type": "markdown",
      "metadata": {
        "id": "zdC8CGmxmZYd"
      },
      "source": [
        "---"
      ]
    },
    {
      "cell_type": "markdown",
      "metadata": {
        "id": "2i36Yv3-MPY5"
      },
      "source": [
        "### Problem Statement\n",
        "\n",
        "In this project, you have to write a computer program to create an interactive bank application for the Horizon Bank. The application must have two simple functionalities:\n",
        "\n",
        "1. Allow a customer to create a new bank account with their following personal details:\n",
        "\n",
        "   - Full name\n",
        "\n",
        "   - Permanent residential address\n",
        "\n",
        "   - Personal or residential phone number\n",
        "\n",
        "   - Valid government-issued identification\n",
        "\n",
        "   - Amount to be deposited to the account\n",
        "\n",
        "2. Allow an existing customer of the bank to\n",
        "\n",
        "   - Check their bank balance\n",
        "   \n",
        "   - Withdraw some amount from their account provided that the withdrawal amount is less than the available bank balance\n",
        "   \n",
        "   - Deposit some amount to their account\n"
      ]
    },
    {
      "cell_type": "markdown",
      "metadata": {
        "id": "d55HBFcBpENK"
      },
      "source": [
        "---"
      ]
    },
    {
      "cell_type": "markdown",
      "metadata": {
        "id": "IMYx69ZBwsOV"
      },
      "source": [
        "### Programming Approach\n",
        "\n",
        "In this project you need to create a Python dictionary to build the **Horizon Bank** application.\n",
        "\n",
        "*A python dictionary is a collection of **key-value** pairs where each key-value pair collectively constitutes an item stored in it.*\n",
        "\n",
        "**Step 1**\n",
        "\n",
        "The data of all the customers needs to be stored in a Python dictionary. Let's call it `cust_data`.\n",
        "\n",
        "The key of the `cust_data` dictionary should be an account number of a customer. Its corresponding value should be another dictionary holding the personal details of a customer such as `name`, `address, email id` etc. as shown below.\n",
        "\n",
        "```\n",
        "cust_data = {10011 : {'name': karthik,\n",
        "                      'address': 'C42, MG Complex, Sector-14, Vashi',\n",
        "                      'phone num': '9876543210',\n",
        "                      'govt id': 'C12345Z',\n",
        "                      'amount': 15999}}\n",
        "```\n",
        "\n",
        "Here, `10011` is the account number for Karthik's saving account. It acts as a key to the dictionary containing his details.\n",
        "\n",
        "To add the personal details of another customer to the `cust_data` dictionary, you need to append it with existing data in the dictionary as shown below.\n",
        "\n",
        "```\n",
        "cust_data = {10011 : {'name': karthik,\n",
        "                      'address': 'C42, MG Complex, Sector-14, Vashi',\n",
        "                      'phone num': '9876543210',\n",
        "                      'govt id': 'C12345Z',\n",
        "                      'amount': 15999},\n",
        "            100012 : {'name' : Hrithik,\n",
        "                      'address': B-910, Mandapeshwar Kripa, Borivalli,\n",
        "                      'phone num' : '9876543210',\n",
        "                      'govt id': 'QL44345',\n",
        "                      'amount': 13999}}\n",
        "```\n",
        "\n",
        "Next, you need to create a list holding the personal attributes of a customer, i.e.,\n",
        "\n",
        "`['name', 'address', 'phone num', 'govt id', 'amount']`\n",
        "\n",
        "Let's call it  `new_user_attributes` list.\n",
        "\n",
        "**Step 2**\n",
        "\n",
        "As the next step, you need to create a function to add a new user to the `cust_data` dictionary. Name the function as `new_user()`. This function should do the following:\n",
        "\n",
        "1. Create a random five-digit account number for a new customer. It should not already exist in the `cust_data` dictionary.\n",
        "\n",
        "2. Collect the required personal details of a user one-by-one in the `new_user_input` variable.\n",
        "\n",
        "4. Create a dictionary by joining the items of the `new_user_attributes` list and the `new_user_input` list for a new user and add it to the `cust_data` dictionary.\n",
        "\n",
        "\n",
        "**Step 3:**\n",
        "\n",
        "Then you need to create a function to get the account details of an existing user from the `cust_data` dictionary. Name the function as `existing_user()`. This function should do the following:\n",
        "\n",
        "1. Prompt the user to enter their account number. Keep prompting until they enter their correct account number.\n",
        "\n",
        "2. Once the user has entered the correct account number, prompt them to enter either `1, 2` or `3` where:\n",
        "   \n",
        "   - 1 denotes check the available amount in the account of a user\n",
        "\n",
        "   - 2 denotes allow the user to withdraw an amount from their account\n",
        "   \n",
        "   - 3 denotes allow the user to deposit an amount to their account\n",
        "  \n",
        "  Keep prompting until the user enters the valid input.\n",
        "  \n",
        "3. In the case of valid input:\n",
        "  \n",
        "   - If the user enters `1`, then display their available account balance.\n",
        "\n",
        "   - Else if the user enters `2`, then prompt the user to enter the withdrawal amount.\n",
        "\n",
        "     - If the withdrawal amount is greater than the available balance, then terminate the withdrawal action.\n",
        "\n",
        "     - Else, subtract the withdrawal amount from the available balance and replace the existing available amount with the updated amount in the `cust_data` dictionary.\n",
        "\n",
        "   - Else if the user enters `3`, then prompt them to enter the amount to be deposited to their account. Add the deposit amount to the available balance and update the new deposit amount in the `cust_data` dictionary.\n",
        "\n",
        "**Step 4**\n",
        "\n",
        "Finally, you need to create an infinite `while` loop to run the application. Inside the loop:\n",
        "\n",
        "1. Create a list of valid inputs, i.e., `'1', '2', '3'` where\n",
        "\n",
        "   - 1 denotes the user is a new customer who wants to create a new account\n",
        "\n",
        "   - 2 denotes the user is an existing customer who wants to either check their balance, withdraw some amount from their account or deposit some amount to their account.\n",
        "\n",
        "   - 3 denotes terminate the application or terminate the infinite `while` loop.\n",
        "\n",
        "2. Prompt the user to enter either `1, 2,` or `3`. Keep prompting until the user enters the valid input.\n",
        "\n",
        "3. If the user enters `1`, then create a new account for the user and get their personal details. After creating the account, terminate the application.\n",
        "\n",
        "4. Else if the user enters 2, then display their account balance, reduce their balance or increase their balance depending on their further input. Afterwards, terminate the application.\n",
        "\n",
        "5. Else if the user enters 3, then terminate the application."
      ]
    },
    {
      "cell_type": "markdown",
      "metadata": {
        "id": "UyYUfSu3fJkj"
      },
      "source": [
        "---"
      ]
    },
    {
      "cell_type": "markdown",
      "metadata": {
        "id": "5JRlGIBRqCGl"
      },
      "source": [
        "---"
      ]
    },
    {
      "cell_type": "code",
      "metadata": {
        "id": "6RL71w3ntzcH"
      },
      "source": [
        "# Create the 'cust_data' dictionary and the 'new_user_attributes' list.\n",
        "cust_data={}\n",
        "new_user_attributes=['name','address','phone num','govt id','amount']"
      ],
      "execution_count": null,
      "outputs": []
    },
    {
      "cell_type": "markdown",
      "metadata": {
        "id": "RETr5Tv1JBls"
      },
      "source": [
        "---"
      ]
    },
    {
      "cell_type": "code",
      "metadata": {
        "id": "mROhcvIy0ML6",
        "colab": {
          "base_uri": "https://localhost:8080/"
        },
        "outputId": "e0b4b23d-a3e6-4812-9ae6-e77db324c5c7"
      },
      "source": [
        "# Create the 'new_user()' function to add a new user to the 'cust_data' dictionary.\n",
        "import random\n",
        "def new_user():\n",
        "  global new_user_input,user,rand_no,cust_data\n",
        "  new_user_input=[]\n",
        "  rand_no=random.randint(10000,99999)\n",
        "  name=input('name : ')\n",
        "  address=input('address  : ')\n",
        "  phone_num=input('phone num : ')\n",
        "  govt_id=input('govt_id : ')\n",
        "  amount=int(input('amount : '))\n",
        "  new_user_input.append(name)\n",
        "  new_user_input.append(address)\n",
        "  new_user_input.append(phone_num)\n",
        "  new_user_input.append(govt_id)\n",
        "  new_user_input.append(amount)\n",
        "  user=dict(zip(new_user_attributes,new_user_input))\n",
        "  if rand_no not in cust_data:\n",
        "    cust_data[rand_no]=user\n",
        "new_user()\n",
        "print(cust_data)\n",
        "\n"
      ],
      "execution_count": null,
      "outputs": [
        {
          "output_type": "stream",
          "text": [
            "name : Joey\n",
            "address  : New York\n",
            "phone num : 4362462462\n",
            "govt_id : 242\n",
            "amount : 5400\n",
            "{97181: {'name': 'Edwin', 'address': 'Thrissur', 'phone num': '9358245242', 'govt id': '426', 'amount': 1500}, 44771: {'name': 'Sam', 'address': 'California', 'phone num': '42059235', 'govt id': '5135', 'amount': 4000}, 96755: {'name': 'Joey', 'address': 'New York', 'phone num': '4362462462', 'govt id': '242', 'amount': 5400}}\n"
          ],
          "name": "stdout"
        }
      ]
    },
    {
      "cell_type": "markdown",
      "metadata": {
        "id": "aJJT0ojPGPcd"
      },
      "source": [
        "---"
      ]
    },
    {
      "cell_type": "code",
      "metadata": {
        "id": "8HV3cY6O9LeE"
      },
      "source": [
        "# Create the 'existing_user()' function to get the account details of an existing user from the 'cust_data' dictionary.\n",
        "def existing_user():\n",
        "  global acct_num\n",
        "  acct_num=int(input('Please Enter Your Account Number : '))\n",
        "  while acct_num not in cust_data:\n",
        "    print('''ERROR: You have entered an invalid number!\n",
        "                Please Retry ''')\n",
        "    acct_num=int(input('Please Enter Your Account Number : '))\n",
        "  print('Welcome, ',cust_data[acct_num]['name'],'!\\n Enter 1 to check your balance.\\nEnter 2 to withdraw an amount.\\nEnter 3 to deposit an amount.\\n')\n",
        "  valid_inputs=[1,2,3]\n",
        "  entered_num=int(input('You Entered : '))\n",
        "  while entered_num not in valid_inputs:\n",
        "    print('''Invalid input!\n",
        "            Enter 1 to check your balance.\n",
        "            Enter 2 to withdraw an amount.\n",
        "            Enter 3 to deposit an amount.''')\n",
        "    entered_num=int(input('You Entered : '))\n",
        "  if entered_num==1:\n",
        "    print('Your available balance is ', cust_data[acct_num]['amount'])\n",
        "  elif entered_num==2:\n",
        "    withdraw_amt=int(input('Enter the amount to be withdrawn : '))\n",
        "    if withdraw_amt>cust_data[acct_num]['amount']:\n",
        "      print('Insufficient balance.\\nAvailable balance: ',cust_data[acct_num]['amount'])\n",
        "    else:\n",
        "      print('Withdraw Successful!\\nAvailable Balance : ',(cust_data[acct_num]['amount'])-withdraw_amt)\n",
        "      cust_data[acct_num]['amount']=(cust_data[acct_num]['amount'])-withdraw_amt\n",
        "  else:\n",
        "    deposit_amt=int(input('Enter the amount to be deposited : '))\n",
        "    print('Deposit successful!\\nAvailable Balance: ',(cust_data[acct_num]['amount'])+deposit_amt)\n",
        "    cust_data[acct_num]['amount']=(cust_data[acct_num]['amount'])+deposit_amt\n"
      ],
      "execution_count": null,
      "outputs": []
    },
    {
      "cell_type": "markdown",
      "metadata": {
        "id": "gdgW4-R6LVB3"
      },
      "source": [
        "---"
      ]
    },
    {
      "cell_type": "code",
      "metadata": {
        "id": "-QAIIkM1qCNr",
        "colab": {
          "base_uri": "https://localhost:8080/"
        },
        "outputId": "10d74da4-cfc4-4b51-94d3-78bb24e60573"
      },
      "source": [
        "# Create an infinite while loop to run the application.\n",
        "while True:\n",
        "  valid_entries2=[1,2,3]\n",
        "  print('''Welcome to the Horizon Bank!\n",
        "\n",
        "          Enter 1 if you are a new customer.\n",
        "          Enter 2 if you are an existing customer.\n",
        "          Enter 3 to terminate the application.\n",
        "          ''')\n",
        "  entry_code=int(input('You Entered  '))\n",
        "  while entry_code not in valid_entries2:\n",
        "    print('''Invalid input!\n",
        "             Enter 1 if you are a new customer.\n",
        "             Enter 2 if you are an existing customer.\n",
        "             Enter 3 to terminate the application.''')\n",
        "    entry_code=int(input('You Entered  '))\n",
        "  if entry_code==1:\n",
        "    new_user()\n",
        "    break\n",
        "  elif entry_code==2:\n",
        "    existing_user()\n",
        "    break\n",
        "  else:\n",
        "    print('Thank you, for banking with us!')\n",
        "    break"
      ],
      "execution_count": null,
      "outputs": [
        {
          "output_type": "stream",
          "text": [
            "Welcome to the Horizon Bank!\n",
            " \n",
            "          Enter 1 if you are a new customer.\n",
            "          Enter 2 if you are an existing customer.\n",
            "          Enter 3 to terminate the application.\n",
            "          \n",
            "You Entered  2\n",
            "Please Enter Your Account Number : 44771\n",
            "Welcome,  Sam !\n",
            " Enter 1 to check your balance.\n",
            "Enter 2 to withdraw an amount.\n",
            "Enter 3 to deposit an amount.\n",
            "\n",
            "You Entered : 3\n",
            "Enter the amount to be deposited : 20000\n",
            "Deposit successful!\n",
            "Available Balance:  21000\n"
          ],
          "name": "stdout"
        }
      ]
    },
    {
      "cell_type": "code",
      "metadata": {
        "colab": {
          "base_uri": "https://localhost:8080/"
        },
        "id": "vuXpOcBpwmBT",
        "outputId": "83969d31-b7e1-42a8-e335-39aae5fea145"
      },
      "source": [
        "cust_data"
      ],
      "execution_count": null,
      "outputs": [
        {
          "output_type": "execute_result",
          "data": {
            "text/plain": [
              "{44771: {'address': 'California',\n",
              "  'amount': 21000,\n",
              "  'govt id': '5135',\n",
              "  'name': 'Sam',\n",
              "  'phone num': '42059235'},\n",
              " 80675: {'address': 'okasaaffaaw',\n",
              "  'amount': 9000,\n",
              "  'govt id': '3535',\n",
              "  'name': 'Aron',\n",
              "  'phone num': '5680529663'},\n",
              " 96755: {'address': 'New York',\n",
              "  'amount': 5400,\n",
              "  'govt id': '242',\n",
              "  'name': 'Joey',\n",
              "  'phone num': '4362462462'},\n",
              " 97181: {'address': 'Thrissur',\n",
              "  'amount': 1500,\n",
              "  'govt id': '426',\n",
              "  'name': 'Edwin',\n",
              "  'phone num': '9358245242'}}"
            ]
          },
          "metadata": {
            "tags": []
          },
          "execution_count": 15
        }
      ]
    },
    {
      "cell_type": "markdown",
      "metadata": {
        "id": "4qIsQMIj-Is3"
      },
      "source": [
        "---"
      ]
    }
  ]
}